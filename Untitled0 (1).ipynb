{
  "nbformat": 4,
  "nbformat_minor": 0,
  "metadata": {
    "colab": {
      "provenance": []
    },
    "kernelspec": {
      "name": "python3",
      "display_name": "Python 3"
    },
    "language_info": {
      "name": "python"
    }
  },
  "cells": [
    {
      "cell_type": "code",
      "source": [
        "string = input(\"Enter any string: \")\n",
        "reversed = string[::-1]\n",
        "print(reversed)\n",
        "\n",
        "if(string == reversed):\n",
        "  print(\"This is a palindrome\")\n",
        "else:\n",
        "  print(\"This is not a palindrome\")"
      ],
      "metadata": {
        "colab": {
          "base_uri": "https://localhost:8080/"
        },
        "id": "wfrjRYiAK5At",
        "outputId": "0846822b-9089-4446-c90a-4de7702e98af"
      },
      "execution_count": null,
      "outputs": [
        {
          "output_type": "stream",
          "name": "stdout",
          "text": [
            "Enter any string: Pallabi\n",
            "iballaP\n",
            "This is not a palindrome\n"
          ]
        }
      ]
    },
    {
      "cell_type": "code",
      "source": [
        "write = input(\"Enter any sentence: \")\n",
        "\n",
        "a = write.count(\"th\")\n",
        "th = \"no. of occurrence of 'th' is: \", a\n",
        "\n",
        "b = write.count(\"wh\")\n",
        "wh = \"no. of occurrence of 'wh' is: \", b\n",
        "\n",
        "c = write.count(\"ho\")\n",
        "ho = \"no. of occurrence of 'ho' is: \", c\n",
        "\n",
        "Option = input(\"Enter to find the occurence of anyone 'th', 'wh', 'ho': \")\n",
        "\n",
        "if(Option == \"th\"):\n",
        "  print(th)\n",
        "elif(Option == \"wh\"):\n",
        "  print(wh)\n",
        "else:\n",
        "  print(ho)"
      ],
      "metadata": {
        "colab": {
          "base_uri": "https://localhost:8080/"
        },
        "id": "t_ghoBxaNig-",
        "outputId": "1f4b5979-020c-4b49-e555-d9e94f1141e8"
      },
      "execution_count": null,
      "outputs": [
        {
          "output_type": "stream",
          "name": "stdout",
          "text": [
            "Enter any sentence: Ther was a kangaroo who lives in a forest and that it loves to hop\n",
            "Enter to find the occurence of anyone 'th', 'wh', 'ho': th\n",
            "(\"no. of occurrence of 'th' is: \", 1)\n"
          ]
        }
      ]
    },
    {
      "cell_type": "code",
      "source": [
        "List = [1,2,\"Ram\", []]\n",
        "\n",
        "print([] in List)\n"
      ],
      "metadata": {
        "colab": {
          "base_uri": "https://localhost:8080/"
        },
        "id": "7nalw1juQkj4",
        "outputId": "4cd49c58-dc32-40fc-81fe-c0807cb78fe1"
      },
      "execution_count": null,
      "outputs": [
        {
          "output_type": "stream",
          "name": "stdout",
          "text": [
            "True\n"
          ]
        }
      ]
    },
    {
      "cell_type": "code",
      "source": [
        "List = [1, 45, 67, 90, 23, 55]\n",
        "\n",
        "List.sort()\n",
        "\n",
        "\n",
        "print(\"The second largest number from the list is: \", List[-2])"
      ],
      "metadata": {
        "colab": {
          "base_uri": "https://localhost:8080/"
        },
        "id": "cNEVU90GRYTi",
        "outputId": "7bc2187a-df28-4619-82ec-251c6badac53"
      },
      "execution_count": 1,
      "outputs": [
        {
          "output_type": "stream",
          "name": "stdout",
          "text": [
            "The second largest number from the list is:  67\n"
          ]
        }
      ]
    }
  ]
}